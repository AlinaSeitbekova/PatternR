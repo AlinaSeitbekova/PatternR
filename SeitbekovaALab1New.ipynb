{
 "cells": [
  {
   "cell_type": "code",
   "execution_count": 1,
   "metadata": {},
   "outputs": [
    {
     "name": "stdout",
     "output_type": "stream",
     "text": [
      "Enter array: 1 2 4 7 1 3 5\n",
      "[1, 2, 4, 7, 1, 3, 5]\n",
      "Enter time: 3\n",
      "[1, 1, 2, 3, 4, 5, 7]\n",
      "16\n"
     ]
    }
   ],
   "source": [
    "array=input('Enter array: ').split()\n",
    "length=len(array)\n",
    "for j in range(length):\n",
    "    array[j]=int(array[j])\n",
    "print(array)\n",
    "t=int(input('Enter time: '))\n",
    "array.sort()\n",
    "print(array)\n",
    "sum=0\n",
    "for i in range(t):\n",
    "    sum=sum+array[length-1]\n",
    "    length=length-1\n",
    "print(sum)"
   ]
  },
  {
   "cell_type": "code",
   "execution_count": null,
   "metadata": {
    "collapsed": true
   },
   "outputs": [],
   "source": []
  }
 ],
 "metadata": {
  "kernelspec": {
   "display_name": "Python 3",
   "language": "python",
   "name": "python3"
  },
  "language_info": {
   "codemirror_mode": {
    "name": "ipython",
    "version": 3
   },
   "file_extension": ".py",
   "mimetype": "text/x-python",
   "name": "python",
   "nbconvert_exporter": "python",
   "pygments_lexer": "ipython3",
   "version": "3.6.3"
  }
 },
 "nbformat": 4,
 "nbformat_minor": 2
}
