{
 "cells": [
  {
   "cell_type": "code",
   "execution_count": 1,
   "metadata": {},
   "outputs": [
    {
     "name": "stdout",
     "output_type": "stream",
     "text": [
      "[1, 2, 4, 1, 5]\n",
      "[1, 1, 2, 4, 5]\n",
      "9\n"
     ]
    }
   ],
   "source": [
    "array=input('Enter array: ').split()\n",
    "length=len(array)\n",
    "for j in range(length):\n",
    "    array[j]=int(array[j])\n",
    "print(array)\n",
    "a=int(input())\n",
    "array.sort()\n",
    "print(array)\n",
    "sum=0\n",
    "for i in range(a):\n",
    "    sum=sum+array[length-1]\n",
    "    length=length-1\n",
    "print(sum)"
   ]
  },
  {
   "cell_type": "code",
   "execution_count": null,
   "metadata": {},
   "outputs": [],
   "source": []
  }
 ],
 "metadata": {
  "kernelspec": {
   "display_name": "Python 3",
   "language": "python",
   "name": "python3"
  },
  "language_info": {
   "codemirror_mode": {
    "name": "ipython",
    "version": 3
   },
   "file_extension": ".py",
   "mimetype": "text/x-python",
   "name": "python",
   "nbconvert_exporter": "python",
   "pygments_lexer": "ipython3",
   "version": "3.6.3"
  }
 },
 "nbformat": 4,
 "nbformat_minor": 2
}
